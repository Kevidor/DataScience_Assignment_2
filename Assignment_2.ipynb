{
 "cells": [
  {
   "cell_type": "markdown",
   "id": "ed1ebbd2",
   "metadata": {},
   "source": [
    "# Data Science and Machine Learning - Programm a Spam/Ham Classifier"
   ]
  },
  {
   "cell_type": "code",
   "execution_count": 69,
   "id": "9ab2cd25",
   "metadata": {},
   "outputs": [],
   "source": [
    "##install modules\n",
    "#%pip install numpy pandas scikit-learn nltk matplotlib\n",
    "#%pip freeze > requirements.txt"
   ]
  },
  {
   "cell_type": "code",
   "execution_count": 70,
   "id": "4709d9ca",
   "metadata": {},
   "outputs": [],
   "source": [
    "#import modules\n",
    "import os\n",
    "import numpy as np\n",
    "import pandas as pd"
   ]
  },
  {
   "cell_type": "markdown",
   "id": "d0fe5755",
   "metadata": {},
   "source": [
    "## Preprocessing\n",
    "\n",
    "First the data has to be loaded in and undergo some preprocessing.\n",
    "The data was downloaded from [Apache Spam Assassin](https://spamassassin.apache.org/old/publiccorpus/) and got extracted into the `data` folder.\n",
    "\n",
    "With the `os` module we'll iterate through all the directories in the data folder and load the files with labels into a `pandas` dataframe.\n",
    "\n",
    "The data folder stucture looks as follows:\n",
    "```plaintext\n",
    "data/\n",
    "├── easy_ham\n",
    "├── easy_ham_2\n",
    "├── hard_ham\n",
    "├── spam\n",
    "└── spam_2\n",
    "```"
   ]
  },
  {
   "cell_type": "code",
   "execution_count": 71,
   "id": "23a08d45",
   "metadata": {},
   "outputs": [
    {
     "data": {
      "application/vnd.microsoft.datawrangler.viewer.v0+json": {
       "columns": [
        {
         "name": "index",
         "rawType": "int64",
         "type": "integer"
        },
        {
         "name": "text",
         "rawType": "object",
         "type": "string"
        },
        {
         "name": "is_spam",
         "rawType": "int64",
         "type": "integer"
        }
       ],
       "ref": "70d26c58-0f73-452c-9474-08c3208926ac",
       "rows": [
        [
         "0",
         "From atoffd1@aol.com  Mon Jun 24 17:04:34 2002\nReturn-Path: atoffd1@aol.com\nDelivery-Date: Fri May 17 13:55:12 2002\nReceived: from mandark.labs.netnoteinc.com ([213.105.180.140]) by\n    dogma.slashnull.org (8.11.6/8.11.6) with ESMTP id g4HCtBe29993 for\n    <jm@jmason.org>; Fri, 17 May 2002 13:55:11 +0100\nReceived: from [148.223.69.194] (customer-148-223-69-194.uninet.net.mx\n    [148.223.69.194] (may be forged)) by mandark.labs.netnoteinc.com\n    (8.11.2/8.11.2) with SMTP id g4HCt8D02396 for <jm@netnoteinc.com>;\n    Fri, 17 May 2002 13:55:09 +0100\nDate: Fri, 17 May 2002 13:55:09 +0100\nMessage-Id: <200205171255.g4HCt8D02396@mandark.labs.netnoteinc.com>\nReceived: from www.zucarmex.com by [148.223.69.194] via smtpd (for\n    [213.105.180.140]) with SMTP; 17 May 2002 12:48:30 UT\nReceived: (qmail 85636 invoked from network); 16 May 2002 11:02:21 -0000\nReceived: from border.zucarmex.com (100.100.10.6) by www.zucarmex.com with\n    SMTP; 16 May 2002 11:02:21 -0000\nFrom: \"Ellen\" <atoffd1@aol.com>\nTo: \"krhnfxrku@hotmail.com\" <krhnfxrku@hotmail.com>\nReceived: from [207.191.163.65] by border.zucarmex.com via smtpd (for\n    www.zucarmex.com [100.100.10.8]) with SMTP; 16 May 2002 11:03:28 UT\nSubject: RE: 6.25 30 YR Fixed Home Loan, No Points flu\nMIME-Version: 1.0\nX-Keywords: \nContent-Type: text/html; charset=\"iso-8859-1\"\nContent-Transfer-Encoding: 7bit\n\n<html>\n\n<body>\n\n<font size=\"2\" PTSIZE=\"10\">\n<table height=\"338\" cellSpacing=\"0\" cellPadding=\"0\" width=\"539\" border=\"0\" style=\"border:12px double #006600; border-collapse:collapse; padding-left:4; padding-right:4; padding-top:1; padding-bottom:1\" bordercolor=\"#111111\" bordercolorlight=\"#FFFFFF\" bordercolordark=\"#FFFFFF\">\n  <tr>\n    <td width=\"4\" height=\"423\">&nbsp;</td>\n    <td vAlign=\"top\" align=\"left\" width=\"535\" height=\"423\" style=\"border-style: solid; border-width: 0\">\n    <table cellSpacing=\"0\" cellPadding=\"4\" width=\"95%\" border=\"0\" bgcolor=\"#FFFFFF\" style=\"border-collapse: collapse\" bordercolor=\"#111111\">\n      <tr>\n        <td vAlign=\"top\" align=\"right\" height=\"424\">\n        <table cellSpacing=\"0\" cellPadding=\"0\" width=\"100%\" border=\"0\">\n          <tr>\n            <td>\n            <div align=\"left\">\n              <font face=\"Verdana, Arial, Helvetica, sans-serif\" size=\"2\"><b>\n              <font face=\"Verdana, Arial, Helvetica, sans-serif\" color=\"#000000\" size=\"2\">\n              <br>\n              </font></b></font><font color=\"#000000\"><b>\n              <font face=\"Verdana, Arial, Helvetica, sans-serif\" size=\"2\">Dear \n              Homeowner,</font></b></font></div>\n            <div align=\"left\">\n&nbsp;</div>\n            <div align=\"center\">\n              <b>\n              <font face=\"Verdana, Arial, Helvetica, sans-serif\">\n              *</font><font face=\"Verdana, Arial, Helvetica, sans-serif\" color=\"#FF0000\">6.25% \n              30 Yr Fixed Rate Mortgage</font></b></div>\n            </td>\n          </tr>\n          <tr>\n            <td>\n            <div align=\"left\">\n              <font face=\"Verdana,Arial,Helvetica,sans-serif\" size=\"2\">Interest \n              rates are at their lowest point in 40 years! We help you find the \n              best rate for your situation by matching your needs with hundreds \n              of lenders! <b>Home Improvement</b>, <b>Refinance</b>, <b>Second \n              Mortgage</b>, <b>Home Equity Loans, and More! </b>Even with less \n              than perfect credit! </font>\n            </div>\n            </td>\n          </tr>\n        </table>\n        <table cellSpacing=\"0\" cellPadding=\"0\" width=\"504\" border=\"0\" style=\"position: relative; border-collapse: collapse\" bordercolor=\"#111111\" height=\"1\">\n          <tr>\n            <td vAlign=\"top\" width=\"325\" height=\"1\">\n            <div align=\"center\">\n              <font face=\"Verdana, Arial, Helvetica, sans-serif\" size=\"2\"><b>\n   \n              <br>\n              </a>\n              <a title=\"http://66.231.133.63/index.html?ID=A12b\" target=\"new_win\" href=\"http://66.231.133.63/index.html?ID=b13\">Click Here for a Free Quote!</a></b></font><a title=\"http://66.231.133.63/index.html?ID=A12b\" target=\"new_win\" href=\"http://66.231.133.63/index.html?ID=A11\">\n              </a>\n            </div>\n            <p><b><font face=\"Verdana,Arial,Helvetica,sans-serif\" size=\"2\">Lock \n            In YOUR LOW FIXED RATE TODAY</font></b></p>\n            <dl>\n              <dd><b><font face=\"Webdings\" size=\"5\" color=\"#FF0000\">a</font><font face=\"Verdana,Arial,Helvetica,sans-serif\" size=\"2\">NO \n              POINTS</font></b></dd>\n              <dd><b><font face=\"Webdings\" size=\"5\" color=\"#FF0000\" PTSIZE=\"10\">\n              a</font><font face=\"Verdana,Arial,Helvetica,sans-serif\" size=\"2\">NO \n              COST OUT OF POCKET</font></b></dd>\n              <dd><b><font face=\"Webdings\" size=\"5\" color=\"#FF0000\" PTSIZE=\"10\">\n              a</font><font face=\"Verdana,Arial,Helvetica,sans-serif\" size=\"2\">NO \n              UPFRONT FEES</font></b></dd>\n              <dd><b><font face=\"Webdings\" size=\"5\" color=\"#FF0000\" PTSIZE=\"10\">\n              a</font></b><font face=\"Verdana,Arial,Helvetica,sans-serif\" size=\"2\"><b>NO \n              OBLIGATION</b></font> </dd>\n              <dd><b><font face=\"Webdings\" size=\"5\" color=\"#FF0000\" PTSIZE=\"10\">\n              a</font></b><font face=\"Verdana,Arial,Helvetica,sans-serif\" size=\"2\"><b>FREE \n              CONSULTATION</b></font> </dd>\n              <dd><b><font face=\"Webdings\" size=\"5\" color=\"#FF0000\" PTSIZE=\"10\">\n              a</font></b><font face=\"Verdana,Arial,Helvetica,sans-serif\" size=\"2\"><b>ALL \n              CREDIT GRADES ACCEPTED</b></font> </dd>\n            </dl>\n            <div align=\"center\">\n              <font face=\"Verdana,Arial,Helvetica,sans-serif\" color=\"red\" size=\"2\">\n              <b>\n              <a title=\"http://66.231.133.63/index.html?ID=A12b\" target=\"new_win\" href=\"http://66.231.133.63/index.html?ID=b13\">6.25% won't stay this low forever!<br>\n              Click for your Free Quote, NOW!</a></b></font></div>\n            </td>\n            <td vAlign=\"top\" width=\"4\" height=\"1\">\n            <div align=\"right\">\n              &nbsp;</div>\n            </td>\n            <td width=\"175\" height=\"1\" bgcolor=\"#FFFFFF\" bordercolor=\"#006600\">\n            <h1><span style=\"vertical-align: middle\">\n            <font face=\"Webdings\" style=\"font-size: 200\" color=\"#006600\">\n            <a href=\"http://66.231.133.63/index.html?ID=b13\">\n            <font color=\"#006600\">H</font></a></font></span></h1>\n            </td>\n          </tr>\n        </table>\n        <table cellSpacing=\"0\" cellPadding=\"3\" width=\"472\" border=\"0\">\n          <tr>\n            <td colSpan=\"2\" height=\"64\">\n            <font face=\"Verdana, Arial, Helvetica, sans-serif\" size=\"2\"><b>\n            <table cellSpacing=\"2\" cellPadding=\"0\" width=\"482\" border=\"0\" height=\"38\">\n              <tr>\n                <td width=\"327\" height=\"36\" style=\"border-style: solid; border-width: 0\">\n                <font face=\"Verdana,Arial,Helvetica,sans-serif\" size=\"2\">Apply \n                now and one of our lending partners will get back to you within \n                48 hours.</font></td>\n                <td width=\"141\" bgcolor=\"#FF0000\" height=\"36\" style=\"border-left-style: solid; border-left-width: 1\">\n                <p align=\"center\"><b><font color=\"#FFFFFF\" size=\"4\">\n                <a style=\"text-decoration: none\" href=\"http://66.231.133.63/index.html?ID=b13\">\n                <font color=\"#FFFFFF\">CLICK HERE!</font></a></font></b></td>\n              </tr>\n            </table>\n            </b></font></td>\n          </tr>\n        </table>\n        </td>\n      </tr>\n    </table>\n    </td>\n  </tr>\n</table>\n<p>To Be Removed Please &quot;<a href=\"http://66.231.133.63/final/index_remoov.html?ID=b13\">Clicking \nHere</a>&quot; . </p>\n</font>\n\n</body>\n\n</html>\n",
         "1"
        ],
        [
         "1",
         "From twoods35@yahoo.com  Mon Jun 24 17:05:08 2002\nReturn-Path: twoods35@yahoo.com\nDelivery-Date: Mon May 20 00:42:14 2002\nReceived: from mandark.labs.netnoteinc.com ([213.105.180.140]) by\n    dogma.slashnull.org (8.11.6/8.11.6) with ESMTP id g4JNg9e03343 for\n    <jm@jmason.org>; Mon, 20 May 2002 00:42:09 +0100\nReceived: from cdint.cdromusa.com ([208.46.172.134]) by\n    mandark.labs.netnoteinc.com (8.11.2/8.11.2) with ESMTP id g4JNg7D17167 for\n    <jm@netnoteinc.com>; Mon, 20 May 2002 00:42:08 +0100\nReceived: from mx1.mail.yahoo.com (customer.colo-room136.3waccess.net\n    [4.43.80.136]) by cdint.cdromusa.com with SMTP (Microsoft Exchange\n    Internet Mail Service Version 5.5.2448.0) id LGGAQ1NT; Sat, 18 May 2002\n    17:12:53 -0700\nMessage-Id: <00007e0a499d$00004569$00004e36@mx1.mail.yahoo.com>\nTo: <yyyy@netquarters.net>, <yyyy@neteze.com>, <yyyy@netcarrier.com>,\n    <jm@netmagic.net>\nCc: <yyyy@netlaputa.ne.jp>, <yyyy@netbox.com>, <yyyy@netnoteinc.com>,\n    <jm@netdoktor.dk>\nFrom: \"kahlana\" <twoods35@yahoo.com>\nSubject: Hi Erin, are we going to do it again tonight?H\nDate: Sat, 18 May 2002 20:22:52 -1800\nMIME-Version: 1.0\nX-Keywords: \nContent-Type: text/html; charset=\"iso-8859-1\"\nContent-Transfer-Encoding: quoted-printable\n\n<html>\n<body bgcolor=3D\"#003300\">\n<P align=3Dcenter><FONT color=3D#ffffff size=3D5>Congratulations, \nYou Won $30 Free<BR>Today At The Internet's Best &amp; Most<BR>Trusted On-=\nLine \nCasino!</FONT></P>\n<P align=3Dcenter><FONT color=3D#669966><FONT color=3D#ffffff size=3D4>To =\nCollect Your \n$30 Cash </FONT><A \nhref=3D\"http://81.9.8.41\"><FONT \nsize=3D4>Click Here!</FONT></A></FONT></P>\n<P align=3Dcenter><A \nhref=3D\"http://81.9.8.41\"><IMG \nalt=3D\"Click Here To Collect Your $30 Dollars Free And Start Playing!\" \nsrc=3D\"http://members.triposd.uk%81900955key=3D96589521081900955index=3DA2=\n1r7P6qW81900955.79048@%77%77%77.%70%72%65%73%74%69%67%65%63%61%73%69%6e%6f=\n.%63%6f%6d/%70ic/%70%72e%76ie%77%73/%62i%67/%62%6cac%6b%6aac%6b.%6a%70%67\"=\n \nborder=3D0></A></P>\n<P align=3Dcenter>&nbsp;</P>\n<P align=3Dcenter><FONT color=3D#ffffff size=3D5>To Collect Your $30 Cash =\n</FONT><A \nhref=3D\"http://81.9.8.41\"><FONT \nsize=3D5>Click Here!</FONT></A></P>\n<P align=3Dcenter>&nbsp;</P>\n<P align=3Dcenter><A \nhref=3D\"http://81.9.8.41\"><IMG \nalt=3D\"Click Here To Collect Your $30 Dollars Free And Start Playing!\" \nsrc=3D\"http://members.triposd.uk%21362822key=3D96589521021362822index=3DA2=\n1r7P6qW21362822.4140327@%77%77%77.%70%72%65%73%74%69%67%65%63%61%73%69%6e%=\n6f.%63%6f%6d/%70ic/a%77a%72%64%73/%67om%5f%74o%70ca%73i%6eo%5f%64a%72%6b%3=\n1.%67i%66\" \nborder=3D0></A></P>\n<P align=3Dcenter>&nbsp;</P>\n<P align=3Dcenter>&nbsp;</P>\n<P align=3Dcenter>&nbsp;</P>\n<P>\n<form name=3D\"form\" method=3D\"post\" action=3D\"http://81.9.8.41/r/process_c=\nleanlist.php\">\n<DIV align=3Dcenter> \n            <table width=3D\"391\" border=3D\"1\" cellspacing=3D\"0\" cellpaddin=\ng=3D\"0\" align=3D\"center\" bordercolor=3D\"#000000\">\n              <tr> \n                <td> \n                  <table width=3D\"400\" border=3D\"0\" cellspacing=3D\"0\" cell=\npadding=3D\"2\" bgcolor=3D\"#cccccc\">\n                    <tr> \n                      <td>\n            <P><font face=3D\"Arial, Helvetica, sans-serif\" size=3D\"2\">This=\n message is sent in compliance of the new \n            e-mail bill:<BR>SECTION 301 Per Section 301, Paragraph (a)(2)(=\nC) of \n            S. 1618,<BR>Further transmissions to you by the sender of this=\n email \n            maybe<BR>stopped at no cost to you by entering your email addr=\ness \n            to<BR>the form in this email and clicking submit to be \n            automatically<BR>   \n                                    \n                               removed. </font><FONT \n            face=3D\"Arial, Helvetica, sans-serif\" size=3D2>To be Removed f=\nrom our \n            Opt-In mailing list. Please enter your email address in the pr=\novided \n            box below and click remove, thank you. \n      </FONT></P></td>\n                    </tr>\n                  </table>\n                  <table width=3D\"400\" border=3D\"0\" cellspacing=3D\"0\" cell=\npadding=3D\"0\" bgcolor=3D\"#cccccc\">\n                    <tr> \n                      <td> \n                        <div align=3D\"center\"> \n                          <input type=3D\"hidden\" name=3D\"subject\" value=3D=\n\"REMOVE\">\n                          <input name=3D\"email\" size=3D\"30\" \n           >\n                          <input type=3D\"submit\" name=3D\"Submit\" value=3D\"=\nREMOVE\">\n                        </div>\n                      </td>\n                    </tr>\n                  </table>\n                  <div align=3D\"center\"></div>\n                  <div align=3D\"center\"></div>\n                  <table width=3D\"400\" border=3D\"0\" cellspacing=3D\"0\" cell=\npadding=3D\"0\" bgcolor=3D\"#cccccc\">\n                    <tr> \n                      <td> \n                        <div align=3D\"center\"><font face=3D\"Arial, Helveti=\nca, sans-serif\" size=3D\"1\">Your \n                          E-mail Address Will Be Immediately Removed From =\nAll Mailing Lists</font></div>\n                      </td>\n                    </tr>\n                  </table>\n                </td>\n              </tr>\n            </table></DIV>\n        </form>\n<P>&nbsp;</P>\n</P>\n</body>\n</html>\n\n\n",
         "1"
        ],
        [
         "2",
         "From rwuma@mailasia.com  Mon Jul 29 11:22:08 2002\nReturn-Path: <rwuma@mailasia.com>\nDelivered-To: yyyy@localhost.netnoteinc.com\nReceived: from localhost (localhost [127.0.0.1])\n\tby phobos.labs.netnoteinc.com (Postfix) with ESMTP id AE0D744110\n\tfor <jm@localhost>; Mon, 29 Jul 2002 06:21:00 -0400 (EDT)\nReceived: from mandark.labs.netnoteinc.com [213.105.180.140]\n\tby localhost with POP3 (fetchmail-5.9.0)\n\tfor jm@localhost (single-drop); Mon, 29 Jul 2002 11:21:00 +0100 (IST)\nReceived: from mail4.localdns.com ([203.115.229.167])\n\tby mandark.labs.netnoteinc.com (8.11.6/8.11.6) with ESMTP id g6SA9Sp04231\n\tfor <jm@netnoteinc.com>; Sun, 28 Jul 2002 11:09:29 +0100\nDate: Sun, 28 Jul 2002 11:09:29 +0100\nMessage-Id: <200207281009.g6SA9Sp04231@mandark.labs.netnoteinc.com>\nReceived: from ([])\n        by mail4.localdns.com (Merak 4.4.1) with SMTP id FGB37006;\n        Sun, 28 Jul 2002 17:51:34 +0800\nReceived: from mailasia-com.mr.outblaze.com (IT-PROXY [10.0.0.134]) by mo-0322.teledirect.com.my with SMTP (Microsoft Exchange Internet Mail Service Version 5.5.2653.13)\n\tid PZN4ZJFR; Sun, 28 Jul 2002 17:42:13 +0800\nFrom: \"Alecia\" <rwuma@mailasia.com>\nTo: \"ihslzjy@msn.com\" <ihslzjy@msn.com>\nSubject: Start on your summer look now\nContent-Type: text/plain; charset=\"us-ascii\";format=flowed\nContent-Transfer-Encoding: 7bit\n\nAs seen on NBC, CBS, CNN, and even Oprah! The health \ndiscovery that actually reverses aging while burning fat, \nwithout dieting or exercise! This proven discovery has even \nbeen reported on by the New England Journal of Medicine. \nForget  aging and dieting forever! And it's Guaranteed!   \n\nClick here:\n\nhttp://www205.wiildaccess.com \n\nWould you like to lose weight while you sleep!\nNo dieting!\nNo hunger pains!\nNo Cravings!\nNo strenuous exercise!\nChange your life forever! \n\n100% GUARANTEED!\n\n1.Body Fat Loss            82% improvement.\n2.Wrinkle Reduction     61% improvement.\n3.Energy Level              84% improvement.\n4.Muscle Strength         88% improvement.\n5.Sexual Potency         75% improvement.\n6.Emotional Stability      67% improvement.\n7.Memory                      62% improvement.\n\n***********************************************************\n\nYou are receiving this email as a subscriber\nto the Opt-In America Mailing List. \nTo unsubscribe from future offers,\njust click here:\nmailto:affiliateoptout@btamail.net.cn?Subject=off\n\n\n",
         "1"
        ],
        [
         "3",
         "From matty@hurra.de  Tue Jul 30 09:30:50 2002\nReturn-Path: <matty@hurra.de>\nDelivered-To: yyyy@localhost.netnoteinc.com\nReceived: from localhost (localhost [127.0.0.1])\n\tby phobos.labs.netnoteinc.com (Postfix) with ESMTP id 591A7440EE\n\tfor <jm@localhost>; Tue, 30 Jul 2002 04:30:50 -0400 (EDT)\nReceived: from mandark.labs.netnoteinc.com [213.105.180.140]\n\tby localhost with POP3 (fetchmail-5.9.0)\n\tfor jm@localhost (single-drop); Tue, 30 Jul 2002 09:30:50 +0100 (IST)\nReceived: from smtp.easydns.com (smtp.easydns.com [205.210.42.30])\n\tby mandark.labs.netnoteinc.com (8.11.6/8.11.6) with ESMTP id g6U8R0p10486;\n\tTue, 30 Jul 2002 09:27:01 +0100\nReceived: from hurra.de (unknown [200.255.138.198])\n\tby smtp.easydns.com (Postfix) with SMTP\n\tid C1B2D2CF25; Tue, 30 Jul 2002 04:26:53 -0400 (EDT)\nReply-To: <matty@hurra.de>\nMessage-ID: <005e76a88cea$2445e2a6$0ad80ac5@xyrmct>\nFrom: <matty@hurra.de>\nTo: paolo@virgilio.it\nSubject: STAY HOME AND EARN MONEY\nMiME-Version: 1.0\nContent-Type: text/plain;\n\tcharset=\"iso-8859-1\"\nX-Priority: 3 (Normal)\nX-MSMail-Priority: Normal\nX-Mailer: Microsoft Outlook Express 5.00.2615.200\nImportance: Normal\nDate: Tue, 30 Jul 2002 04:26:53 -0400 (EDT)\nContent-Transfer-Encoding: 8bit\n\nDo you want to make money from home?  Are you tired\nof working for someone else? Then welcome to the \nfuture.  \n\nhttp://www.lotsonet.com/homeopp/\n\n\nDue to our overwhelming growth of nearly 1,000% \nover the last three years, we have an immediate \nneed and are willing to train and develop even \nnon-experienced individuals in local markets.\n\nhttp://www.lotsonet.com/homeopp/\n\nWe are a 14 year old Inc 500 company.  Are you \nwilling to grow?  Are you ready to take on the\nchallenges of the future?  Than we want you!\n\nSimply click on the link below for free information!\nNo obligation whatsoever.\n\nhttp://www.lotsonet.com/homeopp/\n\n \n\nTo be removed from this list go to:\n\nwww.lotsonet.com/homeopp/remove.html\n\n\n\n\n\n\n6725ppxR2-400ZydL68l18\n\n\n",
         "1"
        ],
        [
         "4",
         "From customerservice2217p83@spc.com  Mon Jun 24 17:06:15 2002\nReturn-Path: customerservice2217p83@spc.com\nDelivery-Date: Fri May 24 12:51:52 2002\nReceived: from mandark.labs.netnoteinc.com ([213.105.180.140]) by\n    dogma.slashnull.org (8.11.6/8.11.6) with ESMTP id g4OBppe02478 for\n    <jm@jmason.org>; Fri, 24 May 2002 12:51:52 +0100\nReceived: from webnote.net (mail.webnote.net [193.120.211.219]) by\n    mandark.labs.netnoteinc.com (8.11.2/8.11.2) with ESMTP id g4OBpn707159;\n    Fri, 24 May 2002 12:51:50 +0100\nReceived: from spc.com ([61.157.184.30]) by webnote.net (8.9.3/8.9.3) with\n    SMTP id LAA29455; Fri, 24 May 2002 11:05:52 +0100\nDate: Fri, 24 May 2002 11:05:52 +0100\nFrom: customerservice2217p83@spc.com\nReceived: from unknown (HELO rly-xw01.mx.aol.com) (159.71.127.204) by\n    mx.rootsystems.net with asmtp; Fri, 24 May 2002 06:00:52 +0400\nReceived: from hd.regsoft.net ([80.144.94.210]) by mx.rootsystems.net with\n    local; 24 May 2002 18:57:14 -0900\nReceived: from 185.104.91.152 ([185.104.91.152]) by\n    mailout2-eri1.midsouth.rr.com with smtp; 24 May 2002 01:53:37 +0800\nReceived: from [7.173.21.161] by n7.groups.yahoo.com with esmtp;\n    Thu, 23 May 2002 23:50:00 +1000\nReceived: from [4.36.100.174] by mail.gmx.net with QMQP; Fri,\n    24 May 2002 18:46:23 -0900\nReply-To: <customerservice2217p83@spc.com>\nMessage-Id: <008c65b83edb$7278b6d7$1bd55bb5@karxxy>\nTo: Septic.Tank.Owner@webnote.net\nSubject: Helpful Septic Tank Information 1111BUho3-485kzvl3295UeXZ5-901JGl30\nMIME-Version: 1.0\nX-Priority: 3 (Normal)\nX-Msmail-Priority: Normal\nX-Mailer: AOL 7.0 for Windows US sub 118\nImportance: Normal\nX-Keywords: \nContent-Type: multipart/mixed; boundary=\"----=_NextPart_000_00D1_42B32C7D.B8655D52\"\n\n------=_NextPart_000_00D1_42B32C7D.B8655D52\nContent-Type: text/plain; charset=\"iso-8859-1\"\nContent-Transfer-Encoding: base64\n\nSWYgeW91ciBob21lIGlzIHNlcnZlZCBieSBhIHNlcHRpYyBzeXN0ZW0sIHlv\ndSB3aWxsIGJlIGFibGUgdG8gcmVjZWl2ZQ0KaW52YWx1YWJsZSBpbmZvcm1h\ndGlvbiBvbiBob3cgdG8gZWxpbWluYXRlIHB1bXAgb3V0cywgbWFpbnRhaW4g\ndGhlDQpzeXN0ZW0gcHJvcGVybHkgYW5kIGN1cmUgcHJvYmxlbXMgc3VjaCBh\ncyBiYWNrdXBzLCB3ZXQgc3BvdHMsIG9kb3IsIGV0Yy4NCg0KWW91IGNhbiBk\nbyB0aGlzIGJ5IGNoZWNraW5nIG91dCBvdXIgU1BDIHByb2dyYW0gYXQ6DQoN\nCmh0dHA6Ly93d3cuYmxhY2tzbm93Y2xvdWQuY29tDQoNCkluIGFkZGl0aW9u\nLCB5b3Ugd2lsbCBoYXZlIHRoZSBvcHBvcnR1bml0eSB0byBwYXJ0aWNpcGF0\nZSBpbiBhIGZyZWUNCnRyaWFsIHRvIHRlc3QgdGhlIGVmZmVjdGl2ZW5lc3Mg\nb2YgU1BDLg0KDQpQbGVhc2UgY2hlY2sgdXMgb3V0Lg0KDQpUaGFuayB5b3Uu\nDQoNClNpbmNlcmVseSwNCg0KU1BDDQoNClAuUy4gUmVtZW1iZXIsIHlvdSBt\ndXN0IGNsaWNrIG9uIHRoaXMgbGluayB0byByZWNlaXZlIHRoaXMgaGVscGZ1\nbA0KaW5mb3JtYXRpb24hDQoNCmh0dHA6Ly93d3cuYmxhY2tzbm93Y2xvdWQu\nY29tDQoNCg0KDQpUbyBiZSByZW1vdmVkIGZyb20gb3VyIGVtYWlsIGxpc3Qg\ncGxlYXNlIGNsaWNrIG9uIHRoZSBsaW5rIGJlbG93Lg0KaHR0cDovL3d3dy5i\nbGFja3Nub3djbG91ZC5jb20vcmVtb3ZlLmh0bWwNCg0KNzEyM3JLUko5LTI4\nNHpvV1Q5MzIyT1FKcDktMTg3TUNXbzg4NzhWWmxKNy0zNzl5bDQ1DQo=\n\n",
         "1"
        ]
       ],
       "shape": {
        "columns": 2,
        "rows": 5
       }
      },
      "text/html": [
       "<div>\n",
       "<style scoped>\n",
       "    .dataframe tbody tr th:only-of-type {\n",
       "        vertical-align: middle;\n",
       "    }\n",
       "\n",
       "    .dataframe tbody tr th {\n",
       "        vertical-align: top;\n",
       "    }\n",
       "\n",
       "    .dataframe thead th {\n",
       "        text-align: right;\n",
       "    }\n",
       "</style>\n",
       "<table border=\"1\" class=\"dataframe\">\n",
       "  <thead>\n",
       "    <tr style=\"text-align: right;\">\n",
       "      <th></th>\n",
       "      <th>text</th>\n",
       "      <th>is_spam</th>\n",
       "    </tr>\n",
       "  </thead>\n",
       "  <tbody>\n",
       "    <tr>\n",
       "      <th>0</th>\n",
       "      <td>From atoffd1@aol.com  Mon Jun 24 17:04:34 2002...</td>\n",
       "      <td>1</td>\n",
       "    </tr>\n",
       "    <tr>\n",
       "      <th>1</th>\n",
       "      <td>From twoods35@yahoo.com  Mon Jun 24 17:05:08 2...</td>\n",
       "      <td>1</td>\n",
       "    </tr>\n",
       "    <tr>\n",
       "      <th>2</th>\n",
       "      <td>From rwuma@mailasia.com  Mon Jul 29 11:22:08 2...</td>\n",
       "      <td>1</td>\n",
       "    </tr>\n",
       "    <tr>\n",
       "      <th>3</th>\n",
       "      <td>From matty@hurra.de  Tue Jul 30 09:30:50 2002\\...</td>\n",
       "      <td>1</td>\n",
       "    </tr>\n",
       "    <tr>\n",
       "      <th>4</th>\n",
       "      <td>From customerservice2217p83@spc.com  Mon Jun 2...</td>\n",
       "      <td>1</td>\n",
       "    </tr>\n",
       "  </tbody>\n",
       "</table>\n",
       "</div>"
      ],
      "text/plain": [
       "                                                text  is_spam\n",
       "0  From atoffd1@aol.com  Mon Jun 24 17:04:34 2002...        1\n",
       "1  From twoods35@yahoo.com  Mon Jun 24 17:05:08 2...        1\n",
       "2  From rwuma@mailasia.com  Mon Jul 29 11:22:08 2...        1\n",
       "3  From matty@hurra.de  Tue Jul 30 09:30:50 2002\\...        1\n",
       "4  From customerservice2217p83@spc.com  Mon Jun 2...        1"
      ]
     },
     "execution_count": 71,
     "metadata": {},
     "output_type": "execute_result"
    }
   ],
   "source": [
    "def load_emails(data_folder):\n",
    "    \"\"\"\"\"Load emails from the specified folder.\n",
    "\n",
    "    Args:\n",
    "        data_folder (string): path to the folder containing email data.\n",
    "\n",
    "    Returns:\n",
    "        DataFrame: DataFrame containing labelled emails.\n",
    "    \"\"\"\"\"\n",
    "    emails = []\n",
    "    for data in os.listdir(data_folder):\n",
    "        dir_path = os.path.join(data_folder, data)\n",
    "        if 'ham' in dir_path:\n",
    "            for filename in os.listdir(dir_path):\n",
    "                file_path = os.path.join(dir_path, filename)\n",
    "                if os.path.isfile(file_path):\n",
    "                    with open(file_path, 'r', encoding='latin-1') as f:\n",
    "                        content = f.read()\n",
    "                        emails.append((content, 0))\n",
    "        elif 'spam' in data:\n",
    "            for filename in os.listdir(dir_path):\n",
    "                file_path = os.path.join(dir_path, filename)\n",
    "                if os.path.isfile(file_path):\n",
    "                    with open(file_path, 'r', encoding='latin-1') as f:\n",
    "                        content = f.read()\n",
    "                        emails.append((content, 1))\n",
    "    return pd.DataFrame(emails, columns=['text', 'is_spam']) \n",
    "\n",
    "df_emails = load_emails(\"data\")\n",
    "df_emails.head()"
   ]
  },
  {
   "cell_type": "markdown",
   "id": "aadb3f69",
   "metadata": {},
   "source": [
    "Now that the dataset is labeled as `spam` or `ham` it can be shuffeled and split into training and test sets."
   ]
  },
  {
   "cell_type": "code",
   "execution_count": 72,
   "id": "472ab4a9",
   "metadata": {},
   "outputs": [
    {
     "name": "stdout",
     "output_type": "stream",
     "text": [
      "                                                   text  is_spam\n",
      "3264  Return-Path: guido@python.org\\nDelivery-Date: ...        0\n",
      "43    From info@ipogea.com  Mon Jun 24 17:46:35 2002...        1\n",
      "4954  From fork-admin@xent.com  Wed Jul 24 13:20:12 ...        0\n",
      "5599  From fork-admin@xent.com  Tue Aug  6 11:58:27 ...        0\n",
      "5391  From fork-admin@xent.com  Tue Aug 20 22:51:27 ...        0, \n",
      "\n",
      "                                                   text  is_spam\n",
      "2794  Return-Path: tim.one@comcast.net\\nDelivery-Dat...        0\n",
      "2592  From rssfeeds@jmason.org  Thu Sep 26 16:42:15 ...        0\n",
      "5356  From rpm-list-admin@freshrpms.net  Tue Jul 30 ...        0\n",
      "2002  From rssfeeds@jmason.org  Mon Sep 30 13:37:18 ...        0\n",
      "4205  From spamassassin-talk-admin@lists.sourceforge...        0\n"
     ]
    }
   ],
   "source": [
    "from sklearn.model_selection import train_test_split\n",
    "\n",
    "train_data, test_data = train_test_split(df_emails, random_state=42, shuffle= True)\n",
    "print(f\"{train_data.head()}, \\n\\n{test_data.head()}\")"
   ]
  },
  {
   "cell_type": "markdown",
   "id": "95214242",
   "metadata": {},
   "source": [
    "To make it easier to for the classifier to work with the emails some cleaning up is required, the EmailCleaner class does just that. It makes everything lowercase, removes punctuation and special characters, replaces URL's (\" URL \") and numbers (\" NUMBER \") with a placeholder, applies stemming and strips of the header.\n",
    "\n",
    "`EmailCleaner` class uses some functions from the `nltk` modul to achive a cleaned up version of the input email for the classifier."
   ]
  },
  {
   "cell_type": "code",
   "execution_count": 73,
   "id": "b6d9f953",
   "metadata": {},
   "outputs": [],
   "source": [
    "import re, string\n",
    "from nltk.stem import PorterStemmer, WordNetLemmatizer\n",
    "from nltk.tokenize import word_tokenize\n",
    "from sklearn.base import BaseEstimator, TransformerMixin\n",
    "\n",
    "URL_RE = re.compile(r\"https?://\\S+\")\n",
    "NUM_RE = re.compile(r\"\\b\\d+\\b\")\n",
    "\n",
    "class EmailCleaner(BaseEstimator, TransformerMixin):\n",
    "    def __init__(self,\n",
    "                 strip_headers=True,\n",
    "                 lowercase=True,\n",
    "                 remove_punct=True,\n",
    "                 replace_urls=True,\n",
    "                 replace_numbers=True,\n",
    "                 stemming=True):\n",
    "        self.strip_headers   = strip_headers\n",
    "        self.lowercase       = lowercase\n",
    "        self.remove_punct    = remove_punct\n",
    "        self.replace_urls    = replace_urls\n",
    "        self.replace_numbers = replace_numbers\n",
    "        self.stemming        = stemming\n",
    "        self.stemmer         = PorterStemmer()\n",
    "        self.lemmatizer      = WordNetLemmatizer()\n",
    "\n",
    "    def fit(self, X, y=None):\n",
    "        return self\n",
    "\n",
    "    def transform(self, X):\n",
    "        return [self._clean_email(text) for text in X]\n",
    "\n",
    "    def _clean_email(self, text):\n",
    "        if self.strip_headers:\n",
    "            parts = text.split('\\n\\n', 1)\n",
    "            if len(parts) > 1:\n",
    "                text = parts[1]\n",
    "\n",
    "        if self.lowercase:\n",
    "            text = text.lower()\n",
    "\n",
    "        if self.replace_urls:\n",
    "            text = URL_RE.sub(\" URL \", text)\n",
    "\n",
    "        if self.replace_numbers:\n",
    "            text = NUM_RE.sub(\" NUMBER \", text)\n",
    "\n",
    "        if self.remove_punct:\n",
    "            text = text.translate(str.maketrans(\"\", \"\", string.punctuation))\n",
    "\n",
    "        tokens = word_tokenize(text)\n",
    "\n",
    "        if self.stemming:\n",
    "            tokens = [self.stemmer.stem(t) for t in tokens]\n",
    "\n",
    "        return \" \".join(tokens)"
   ]
  },
  {
   "cell_type": "markdown",
   "id": "8a7b420d",
   "metadata": {},
   "source": [
    "# Training\n",
    "Now that the preprocessing is done, the training of the classifier can begin.\n",
    "\n",
    "Since the Machine Learning algorithms work with numbers, we need to convert the text into a numerical representation. For a spam classifier, a common approach is the use of the **Bag of Words** model. This model represents text data as a matrix of word counts or frequencies.\n",
    "\n",
    "To make this more efficient and automated, we can use a `Pipeline` from the `sklearn` libary. The `Pipeline` allows us to chain together multiple processing steps.\n",
    "In this case the `Pipeline` will consist of the `EmailCleaner` class and a `CountVectorizer` to convert the cleaned text into a numerical representation.\n",
    "Then a classifier of choice can be added."
   ]
  },
  {
   "cell_type": "code",
   "execution_count": 74,
   "id": "f187f236",
   "metadata": {},
   "outputs": [],
   "source": [
    "from sklearn.feature_extraction.text import CountVectorizer\n",
    "from sklearn.pipeline import Pipeline, make_pipeline\n",
    "from sklearn.linear_model import LogisticRegression\n",
    "from sklearn.neural_network import MLPClassifier\n",
    "from sklearn.naive_bayes import MultinomialNB\n",
    "from sklearn.tree import DecisionTreeClassifier\n",
    "from sklearn.svm import SVC\n",
    "\n",
    "tree_pipeline = Pipeline([\n",
    "    ('emailcleaner', EmailCleaner()),\n",
    "    ('countvectorizer', CountVectorizer()),\n",
    "    ('classifier', DecisionTreeClassifier())\n",
    "])\n",
    "\n",
    "SVC_pipeline = Pipeline([\n",
    "    ('emailcleaner', EmailCleaner()),\n",
    "    ('countvectorizer', CountVectorizer()),\n",
    "    ('classifier', SVC(kernel='linear'))\n",
    "])\n",
    "\n",
    "logisticregression_pipeline = Pipeline([\n",
    "    ('emailcleaner', EmailCleaner()),\n",
    "    ('countvectorizer', CountVectorizer()),\n",
    "    ('classifier', LogisticRegression())\n",
    "])\n",
    "\n",
    "MLP_pipeline = Pipeline([\n",
    "    ('emailcleaner', EmailCleaner()),\n",
    "    ('countvectorizer', CountVectorizer()),\n",
    "    ('classifier', MLPClassifier(hidden_layer_sizes=(100,), max_iter=500))\n",
    "])\n",
    "\n",
    "multinomialNB_pipeline = Pipeline([\n",
    "    ('emailcleaner', EmailCleaner()),\n",
    "    ('countvectorizer', CountVectorizer()),\n",
    "    ('classifier', MultinomialNB())\n",
    "])"
   ]
  },
  {
   "cell_type": "markdown",
   "id": "2c3179b0",
   "metadata": {},
   "source": [
    "Now the created `Pipelines` just need to be trained with the training data and can then be used to predict the labels of the test data."
   ]
  },
  {
   "cell_type": "code",
   "execution_count": 75,
   "id": "06dd585b",
   "metadata": {},
   "outputs": [
    {
     "name": "stderr",
     "output_type": "stream",
     "text": [
      "/home/kevidor/dev/Data_Science/Daniel_McG/.venv/lib/python3.12/site-packages/sklearn/linear_model/_logistic.py:470: ConvergenceWarning: lbfgs failed to converge after 100 iteration(s) (status=1):\n",
      "STOP: TOTAL NO. OF ITERATIONS REACHED LIMIT\n",
      "\n",
      "Increase the number of iterations to improve the convergence (max_iter=100).\n",
      "You might also want to scale the data as shown in:\n",
      "    https://scikit-learn.org/stable/modules/preprocessing.html\n",
      "Please also refer to the documentation for alternative solver options:\n",
      "    https://scikit-learn.org/stable/modules/linear_model.html#logistic-regression\n",
      "  n_iter_i = _check_optimize_result(\n"
     ]
    }
   ],
   "source": [
    "train_data[\"is_spam\"] = train_data[\"is_spam\"].astype(int)\n",
    "test_data[\"is_spam\"]  = test_data[\"is_spam\"].astype(int)\n",
    "\n",
    "tree_pipeline.fit(train_data[\"text\"], train_data[\"is_spam\"])\n",
    "y_pred_tree = tree_pipeline.predict(test_data[\"text\"])\n",
    "\n",
    "SVC_pipeline.fit(train_data[\"text\"], train_data[\"is_spam\"])\n",
    "y_pred_SVC = SVC_pipeline.predict(test_data[\"text\"])\n",
    "\n",
    "logisticregression_pipeline.fit(train_data[\"text\"], train_data[\"is_spam\"])\n",
    "y_pred_logistic_regression = logisticregression_pipeline.predict(test_data[\"text\"])\n",
    "\n",
    "MLP_pipeline.fit(train_data[\"text\"], train_data[\"is_spam\"])\n",
    "y_pred_MLP = MLP_pipeline.predict(test_data[\"text\"])\n",
    "\n",
    "multinomialNB_pipeline.fit(train_data[\"text\"], train_data[\"is_spam\"])\n",
    "y_pred_mulinomialNB = multinomialNB_pipeline.predict(test_data[\"text\"])"
   ]
  },
  {
   "cell_type": "markdown",
   "id": "e90535a2",
   "metadata": {},
   "source": [
    "# Visualization\n",
    "Here we visualize the data from the different classifiers and models to see how they perform."
   ]
  },
  {
   "cell_type": "code",
   "execution_count": 76,
   "id": "8ad6290d",
   "metadata": {},
   "outputs": [],
   "source": [
    "import matplotlib.pyplot as plt\n",
    "from sklearn.metrics import classification_report, confusion_matrix, ConfusionMatrixDisplay"
   ]
  },
  {
   "cell_type": "code",
   "execution_count": 77,
   "id": "3ba02c8a",
   "metadata": {},
   "outputs": [
    {
     "name": "stdout",
     "output_type": "stream",
     "text": [
      "Tree Classification Report:\n",
      "\n",
      "              precision    recall  f1-score   support\n",
      "\n",
      "         ham       0.95      0.96      0.96      1020\n",
      "        spam       0.93      0.90      0.91       506\n",
      "\n",
      "    accuracy                           0.94      1526\n",
      "   macro avg       0.94      0.93      0.94      1526\n",
      "weighted avg       0.94      0.94      0.94      1526\n",
      "\n"
     ]
    },
    {
     "data": {
      "image/png": "[encoded data removed]",
      "text/plain": [
       "<Figure size 640x480 with 2 Axes>"
      ]
     },
     "metadata": {},
     "output_type": "display_data"
    }
   ],
   "source": [
    "print(\"Tree Classification Report:\\n\")\n",
    "print(classification_report(test_data[\"is_spam\"], y_pred_tree, target_names=[\"ham\", \"spam\"]))\n",
    "disp = ConfusionMatrixDisplay(confusion_matrix(test_data[\"is_spam\"], y_pred_tree))\n",
    "disp.plot()\n",
    "plt.show()"
   ]
  },
  {
   "cell_type": "code",
   "execution_count": 78,
   "id": "84ef985d",
   "metadata": {},
   "outputs": [
    {
     "name": "stdout",
     "output_type": "stream",
     "text": [
      "SVC Classification Report:\n",
      "\n",
      "              precision    recall  f1-score   support\n",
      "\n",
      "         ham       0.97      0.98      0.98      1020\n",
      "        spam       0.97      0.94      0.95       506\n",
      "\n",
      "    accuracy                           0.97      1526\n",
      "   macro avg       0.97      0.96      0.97      1526\n",
      "weighted avg       0.97      0.97      0.97      1526\n",
      "\n"
     ]
    },
    {
     "data": {
      "image/png": "[encoded data removed]",
      "text/plain": [
       "<Figure size 640x480 with 2 Axes>"
      ]
     },
     "metadata": {},
     "output_type": "display_data"
    }
   ],
   "source": [
    "print(\"SVC Classification Report:\\n\")\n",
    "print(classification_report(test_data[\"is_spam\"], y_pred_SVC, target_names=[\"ham\", \"spam\"]))\n",
    "disp = ConfusionMatrixDisplay(confusion_matrix(test_data[\"is_spam\"], y_pred_SVC))\n",
    "disp.plot()\n",
    "plt.show()"
   ]
  },
  {
   "cell_type": "code",
   "execution_count": 79,
   "id": "70cefaea",
   "metadata": {},
   "outputs": [
    {
     "name": "stdout",
     "output_type": "stream",
     "text": [
      "Logistic Regression Classification Report:\n",
      "\n",
      "              precision    recall  f1-score   support\n",
      "\n",
      "         ham       0.98      0.99      0.98      1020\n",
      "        spam       0.98      0.96      0.97       506\n",
      "\n",
      "    accuracy                           0.98      1526\n",
      "   macro avg       0.98      0.97      0.98      1526\n",
      "weighted avg       0.98      0.98      0.98      1526\n",
      "\n"
     ]
    },
    {
     "data": {
      "image/png": "[encoded data removed]",
      "text/plain": [
       "<Figure size 640x480 with 2 Axes>"
      ]
     },
     "metadata": {},
     "output_type": "display_data"
    }
   ],
   "source": [
    "print(\"Logistic Regression Classification Report:\\n\")\n",
    "print(classification_report(test_data[\"is_spam\"], y_pred_logistic_regression, target_names=[\"ham\", \"spam\"]))\n",
    "disp = ConfusionMatrixDisplay(confusion_matrix(test_data[\"is_spam\"], y_pred_logistic_regression))\n",
    "disp.plot()\n",
    "plt.show()"
   ]
  },
  {
   "cell_type": "code",
   "execution_count": 80,
   "id": "5fa469db",
   "metadata": {},
   "outputs": [
    {
     "name": "stdout",
     "output_type": "stream",
     "text": [
      "MLP Classification Report:\n",
      "\n",
      "              precision    recall  f1-score   support\n",
      "\n",
      "         ham       0.98      0.99      0.98      1020\n",
      "        spam       0.98      0.95      0.97       506\n",
      "\n",
      "    accuracy                           0.98      1526\n",
      "   macro avg       0.98      0.97      0.98      1526\n",
      "weighted avg       0.98      0.98      0.98      1526\n",
      "\n"
     ]
    },
    {
     "data": {
      "image/png": "[encoded data removed]",
      "text/plain": [
       "<Figure size 640x480 with 2 Axes>"
      ]
     },
     "metadata": {},
     "output_type": "display_data"
    }
   ],
   "source": [
    "print(\"MLP Classification Report:\\n\")\n",
    "print(classification_report(test_data[\"is_spam\"], y_pred_MLP, target_names=[\"ham\", \"spam\"]))\n",
    "disp = ConfusionMatrixDisplay(confusion_matrix(test_data[\"is_spam\"], y_pred_MLP))\n",
    "disp.plot()\n",
    "plt.show()"
   ]
  },
  {
   "cell_type": "code",
   "execution_count": 81,
   "id": "ebe4a556",
   "metadata": {},
   "outputs": [
    {
     "name": "stdout",
     "output_type": "stream",
     "text": [
      "MultinomialNB Classification Report:\n",
      "\n",
      "              precision    recall  f1-score   support\n",
      "\n",
      "         ham       0.96      0.99      0.98      1020\n",
      "        spam       0.99      0.91      0.95       506\n",
      "\n",
      "    accuracy                           0.97      1526\n",
      "   macro avg       0.97      0.95      0.96      1526\n",
      "weighted avg       0.97      0.97      0.97      1526\n",
      "\n"
     ]
    },
    {
     "data": {
      "image/png": "[encoded data removed]",
      "text/plain": [
       "<Figure size 640x480 with 2 Axes>"
      ]
     },
     "metadata": {},
     "output_type": "display_data"
    }
   ],
   "source": [
    "print(\"MultinomialNB Classification Report:\\n\")\n",
    "print(classification_report(test_data[\"is_spam\"], y_pred_mulinomialNB, target_names=[\"ham\", \"spam\"]))\n",
    "disp = ConfusionMatrixDisplay(confusion_matrix(test_data[\"is_spam\"], y_pred_mulinomialNB))\n",
    "disp.plot()\n",
    "plt.show()"
   ]
  }
 ],
 "metadata": {
  "kernelspec": {
   "display_name": ".venv",
   "language": "python",
   "name": "python3"
  },
  "language_info": {
   "codemirror_mode": {
    "name": "ipython",
    "version": 3
   },
   "file_extension": ".py",
   "mimetype": "text/x-python",
   "name": "python",
   "nbconvert_exporter": "python",
   "pygments_lexer": "ipython3",
   "version": "3.12.3"
  }
 },
 "nbformat": 4,
 "nbformat_minor": 5
}
